{
 "cells": [
  {
   "cell_type": "markdown",
   "metadata": {},
   "source": [
    "# Numpy, get rid of the Mathesaurus\n",
    "---\n",
    "### *INSTRUCTION TO THE USE OF THIS LAB*\n",
    "By this lab, you can learn many precious stuffs that can make the difference in your professional career as a technology professional. When you do things actively you can memorize also ten times more, so make yourself a gift, be active! There are few rules that you need to follow:\n",
    "* Do you have numpy documentation website open? If you do not, I will not help you.\n",
    "* Did your lab mate ask you a question without having opened the numpy website documentation? Do\n",
    "not help him.\n",
    "* Are you having troubles on finding numpy documentation online? Click [here](http://lmgtfy.com/?q=numpy+doc).\n",
    "* You will find the code of the guided track in the folder of the lab, so you can avoid to spend time while copy/pasting functions. Try to understand the different topics and then get involved in the exercises so that you can learn how to apply what you have learnt.\n",
    "* Be active.\n",
    "* Enjoy!\n",
    "* Please, send me feedback to improve the laboratory for next years.\n",
    "\n",
    "Are you ready? Let’s go!\n",
    "\n"
   ]
  },
  {
   "cell_type": "markdown",
   "metadata": {},
   "source": [
    "### A. Array objects\n",
    "---\n",
    "NumPy provides an N-dimensional array type, the ndarray, which describes a collection of items of the same type. The items can be indexed using for example N integers.\n",
    "All ndarrays are homogenous: every item takes up the same size block of memory, and all blocks are interpreted in exactly the same way. The type of the items in the array is specified by an attribute called dtype that is in every ndarray. Thus, ndarrays are not as python lists, that are heterogeneous, so that can contains items of different types.\n",
    "\n",
    "An item extracted from an array, e.g., by indexing, is represented by a Python object whose type is one of the array scalar types built in Numpy. The array scalars allow easy manipulation of also more complicated arrangements of data.\n",
    "First of all, you need to import the numpy module:"
   ]
  },
  {
   "cell_type": "code",
   "execution_count": null,
   "metadata": {
    "collapsed": true
   },
   "outputs": [],
   "source": [
    "import numpy as np"
   ]
  },
  {
   "cell_type": "markdown",
   "metadata": {},
   "source": [
    "It is renamed as np for a convenient convention.\n",
    "Then, you can create your array, by specifying its elements in a python list:"
   ]
  },
  {
   "cell_type": "code",
   "execution_count": null,
   "metadata": {
    "collapsed": false
   },
   "outputs": [],
   "source": [
    "#### NDARRAY CREATION ####\n",
    "print \"Create a 1D ndarray:\"\n",
    "a = np.array([0, 1, 2, 3])\n",
    "print \"a = %(a)s.\\n\" % {\"a\":a}"
   ]
  },
  {
   "cell_type": "markdown",
   "metadata": {},
   "source": [
    "A numpy array can contain an audio signal, an image, an hyperspectral hypercube or any other kind of digital signal. The ndarray object contains an attributes called ndim that indicates the number of dimensions of the array, and an attribute shape that contains the cardinality of the array in each dimension:"
   ]
  },
  {
   "cell_type": "code",
   "execution_count": null,
   "metadata": {
    "collapsed": false
   },
   "outputs": [],
   "source": [
    "### NDARRAY NUMBER OF DIMENSIONS AND SHAPE ###\n",
    "print \"Access to the ndim and shape attributes of a ndarray:\"\n",
    "print \"a.ndim = %(ndim)s\" % { \"ndim\" : a.ndim }\n",
    "print \"a.shape = %(shape)s\" % { \"shape\" : a.shape }\n",
    "print \"len(a) = %(len)s.\\n\" % { \"len\" : len(a) } #len return the length of the first dimension"
   ]
  },
  {
   "cell_type": "markdown",
   "metadata": {},
   "source": [
    "Note the syntax used for string formatting, it can be useful when you need to print more complicated strings. For creating arrays biggers than 1 dimension, you can use the following syntax:"
   ]
  },
  {
   "cell_type": "code",
   "execution_count": null,
   "metadata": {
    "collapsed": false
   },
   "outputs": [],
   "source": [
    "### 2D NDARRAY ###\n",
    "print \"Creating a 2D ndarray:\"\n",
    "b = np.array([[0, 1, 2], [3, 4, 5]])    # 2 x 3 array\n",
    "print \"b = %(b)s\" % {\"b\":b}\n",
    "print \"b.ndim = %(ndim)s\" % {\"ndim\":b.ndim}\n",
    "print \"b.shape = %(shape)s\" % {\"shape\":b.shape}\n",
    "print \"len(b) = %(len)s.\\n\" % {\"len\":len(b)}\n",
    "\n",
    "### 3D NDARRAY ###\n",
    "print \"Creating a 3D ndarray:\"\n",
    "c = np.array([[[1], [2]], [[3], [4]]])    # 2 x 2 x 1 array\n",
    "print \"c = %(c)s\" % {\"c\":c}\n",
    "print \"c.ndim = %(ndim)s\" % {\"ndim\":c.ndim}\n",
    "print \"c.shape = %(shape)s\" % {\"shape\":c.shape}\n",
    "print \"len(c) = %(len)s.\\n\" % {\"len\":len(c)}"
   ]
  },
  {
   "cell_type": "markdown",
   "metadata": {},
   "source": [
    "What about create a 5D array? Try on your own!"
   ]
  },
  {
   "cell_type": "code",
   "execution_count": null,
   "metadata": {
    "collapsed": false
   },
   "outputs": [],
   "source": [
    "### 5D NDARRAY ###\n",
    "print \"Creating a 5D ndarray:\"\n",
    "d = np.array([ ... ])                            # <-- to do!\n",
    "print \"d = %(d)s\" % {\"d\":d}\n",
    "result = \"Correct\" if d.ndim==5 else \"ERROR!\"\n",
    "print \"d.ndim = %(ndim)s     %(res)s\" % {\"ndim\":d.ndim, \"res\":result}\n",
    "print \"d.shape = %(shape)s\" % {\"shape\":d.shape}\n",
    "print \"len(c) = %(len)s.\\n\" % {\"len\":len(d)}"
   ]
  },
  {
   "cell_type": "markdown",
   "metadata": {},
   "source": [
    "To enter the items of the array one by one is rather unpractical in many cases. Some functions to generate\n",
    "numpy arrays without specifying the items will be introduced. The function arange creates a numpy array containing a sequence of evenly spaced items. The number of items is specified as a parameter. By default, the starting item of the sequence is 0 and the step between each item is 1."
   ]
  },
  {
   "cell_type": "code",
   "execution_count": null,
   "metadata": {
    "collapsed": false
   },
   "outputs": [],
   "source": [
    "### NDARRAY WITH np.arange ### \n",
    "print \"Construct a ndarray with np.arange:\"\n",
    "a = np.arange(10)\n",
    "print \"np.arange(10) = %(a)s.\\n\" % {\"a\":a}"
   ]
  },
  {
   "cell_type": "markdown",
   "metadata": {},
   "source": [
    "What about if you want a sequence that do not start from 0 and has step different than 1?"
   ]
  },
  {
   "cell_type": "code",
   "execution_count": null,
   "metadata": {
    "collapsed": false
   },
   "outputs": [],
   "source": [
    "### NDARRAY WITH np.arange WITH MORE PARAMETERS ###\n",
    "print \"Use np.arange with more parameters:\"\n",
    "b = np.arange(1,9,2) # start = 1 ; end = 9 ; step = 2\n",
    "print \"np.arange(1,9,2) = %(b)s.\\n\" % {\"b\":b}"
   ]
  },
  {
   "cell_type": "markdown",
   "metadata": {},
   "source": [
    "The function linspace creates a numpy array containing a sequence with start, end and number of points in between specified as parameters."
   ]
  },
  {
   "cell_type": "code",
   "execution_count": null,
   "metadata": {
    "collapsed": false
   },
   "outputs": [],
   "source": [
    "### NDARRAY WITH np.linspace ###\n",
    "print \"Construct a ndarray with np.linspace:\"\n",
    "a = np.linspace(0,1,6) # start = 0 ; end = 1 ; number of points in between = 6\n",
    "print \"np.linspace(0,1,6) = %(linspace)s\" % {\"linspace\":a}\n",
    "print \" ... and if you want to omit the endpoint in the sequence:\"\n",
    "b = np.linspace(0,1,6,endpoint=False)\n",
    "print \"np.linspace(0,1,6,endpoint=False) = %(linspace)s.\\n\" % {\"linspace\":b}"
   ]
  },
  {
   "cell_type": "markdown",
   "metadata": {},
   "source": [
    "Then, there are some functions to create common arrays, such as the ones that you are familiar with in matlab. The function zeros creates an array of 0 with size specified as a parameter, the function ones does the same, but with 1 instead of 0. The function eye creates an identity matrix with diagonal of length specified as a parameter, while the function diag creates a diagonal matrix with values of the items on the diagonal specified in a list passed in input as a parameter."
   ]
  },
  {
   "cell_type": "code",
   "execution_count": null,
   "metadata": {
    "collapsed": false
   },
   "outputs": [],
   "source": [
    "### NDARRAY WITH np.zeros ###\n",
    "print \"Construct a ndarray with np.zeros:\"\n",
    "a = np.zeros( (3,3) )  #the size of the zeros array is specified with a tuple\n",
    "print \"np.zeros( (3,3) ) = %(zeros)s.\\n\" % {\"zeros\":a}\n",
    "\n",
    "### NDARRAY WITH np.ones ###\n",
    "print \"Construct a ndarray with np.ones:\"\n",
    "b = np.ones( (3,3) )  #the size of the ones array is specified with a tuple\n",
    "print \"np.ones( (3,3) ) = %(ones)s.\\n\" % {\"ones\":b}\n",
    "\n",
    "### NDARRAY WITH np.eye ###\n",
    "print \"Construct a ndarray with np.eye:\"\n",
    "c = np.eye(3)  #the number of ones in the diagonal in the identity matrix is specified as a parameter\n",
    "print \"np.eye(3) = %(eye)s.\\n\" % {\"eye\":c}\n",
    "\n",
    "### NDARRAY WITH np.diag ###\n",
    "print \"Construct a ndarray with np.diag:\"\n",
    "d = np.diag([1,2,3,4]) #the items in the diagonal are specified as a list\n",
    "print \"np.diag([1,2,3,4]) = %(diag)s.\\n\" % {\"diag\":d}"
   ]
  },
  {
   "cell_type": "markdown",
   "metadata": {},
   "source": [
    "When performing simulations, the creation of randomly generated arrays can be useful. The function seed initialize the random numbers pseudo generator, if the seed is not specified, by default it is None and the pseudo random generator is initialized by looking at the system time. The function rand generates a vector containing items distributed according a uniform probability distribution between 0 and 1. The function randn generates a vector containing items distributed according a gaussian probability distribution."
   ]
  },
  {
   "cell_type": "code",
   "execution_count": null,
   "metadata": {
    "collapsed": false
   },
   "outputs": [],
   "source": [
    "### INITIALIZE THE PSEUDO RANDOM NUMBER GENERATOR WITH np.random.seed ###\n",
    "print \"Initialize the pseudo random number generator with np.random.seed ...\\n\"\n",
    "np.random.seed()\n",
    "\n",
    "### RANDOM NDARRAY WITH np.random.rand ###\n",
    "print \"Construct a ndarray with np.rand:\"\n",
    "a = np.random.rand(4) #vector of 4 items chosen according to a U[0,1] prob. distribution\n",
    "print \"np.random.rand(4) = %(rand)s.\\n\" % {\"rand\":a}\n",
    "\n",
    "### RANDOM NDARRAY WITH np.random.randn ###\n",
    "print \"Construct a ndarray with np.random.randn:\"\n",
    "b = np.random.randn(4) #vector of 4 items chosen according to gaussian dist., mean = 0, sigma = 1\n",
    "print \"np.random.randn(4) = %(randn)s.\\n\" % {\"randn\":b}"
   ]
  },
  {
   "cell_type": "markdown",
   "metadata": {},
   "source": [
    "### B. Basic numpy data types\n",
    "---\n",
    "Numpy arrays require uniformly typed items and they supports only certain defined types. In this subsec- tion you will learn about the dtype attribute of the ndarray and you will be introduced to the most common numpy data types."
   ]
  },
  {
   "cell_type": "code",
   "execution_count": null,
   "metadata": {
    "collapsed": false
   },
   "outputs": [],
   "source": [
    "### dtype ATTRIBUTE IN ndarray ###\n",
    "print \"Check the type of the items by means of dtype attribute:\"\n",
    "a = np.array([0,1,2,3])\n",
    "print \"a.dtype of a = np.array([0,1,2,3]) is %(dtype)s.\" % {\"dtype\":a.dtype}\n",
    "b = np.array([0.,1.,2.,3.])\n",
    "print \"b.dtype of b = np.array([0.,1.,2.,3.]) is %(dtype)s.\" % {\"dtype\":b.dtype}\n",
    "print \"You can also explicitely specify the type of the array that you are creating:\"\n",
    "c = np.array([0,1,2,3],dtype=float)\n",
    "print \"c.dtype of c = np.array([0,1,2,3],dtype=float) is %(dtype)s.\" % {\"dtype\":c.dtype}\n",
    "print \"The default data type is float:\"\n",
    "d = np.ones((3,3))\n",
    "print \"d.dtype of d = np.ones((3,3)) is %(dtype)s.\" % {\"dtype\":d.dtype}\n",
    "print \"Following some other types:\"\n",
    "e = np.array([1+2j, 3+4j, 5+6*1j])\n",
    "print \"e.dtype of e = np.array([1+2j, 3+4j, 5+6*1j]) is %(dtype)s.\" % {\"dtype\":e.dtype}\n",
    "f = np.array([True, False, False, True])\n",
    "print \"f.dtype of f = np.array([True, False, False, True]) is %(dtype)s.\" % {\"dtype\":f.dtype}\n",
    "g = np.array(['Bonjour', 'Hello', 'Hallo',])\n",
    "print \"g.dtype of g = np.array(['Bonjour', 'Hello', 'Hallo',]) is %(dtype)s.\" % {\"dtype\":g.dtype}\n",
    "print \"It is a string of maximum 7 characters!\"\n",
    "print \"Some others useful types are int8, int16, int32, int64, uint8, uint16, uint32, uint34, float32 and many others. uint8 and float32 are especially useful if you use OpenCV library python bindings.\\n\""
   ]
  },
  {
   "cell_type": "markdown",
   "metadata": {},
   "source": [
    "### C. Visualizing data\n",
    "---\n",
    "In this subsection, matplotlib will be briefly introduced. Matplotlib is probably the single most used Python package for 2D-graphics. It provides both a very quick way to visualize data from Python and publication-quality figures in many formats. Let me say that matplotlib is really a jewell for visualizing data, you will love it when you will start to get use to it. Furthermore, the potential of the library goes further beyond respect what it will be shown today. It has also some basic functions for 3d plotting, however if you want to plot 3d stuffs, you should evaluate more specialized modules as mayavi. Some examples of 1D plots follow:"
   ]
  },
  {
   "cell_type": "code",
   "execution_count": null,
   "metadata": {
    "collapsed": false
   },
   "outputs": [],
   "source": [
    "### IMPORT THE MATPLOTLIB MODULE ###\n",
    "import matplotlib.pyplot as plt  # the tidy way\n",
    "# initialize inline plot:\n",
    "%matplotlib inline  \n",
    "# if you want hack a bit the visualization mode you have many choices  \n",
    "# Choices: ['auto', 'gtk', 'gtk3', 'inline', 'nbagg', 'notebook', 'osx', 'qt', 'qt4', 'qt5', 'tk', 'wx']\n",
    "\n",
    "\n",
    "print \"Basic usage of matplotlib for 1D plotting...\\n\"\n",
    "\n",
    "### POPULATE THE X AND Y ARRAY FOR PLOTTING THE GRAPH ###\n",
    "x = np.linspace(0, 3, 20)\n",
    "y = np.linspace(0, 9, 20)\n",
    "\n",
    "### 1D LINE PLOT OF THE GRAPH ###\n",
    "plt.plot(x, y)       # line plot \n",
    "plt.show()           # <-- shows the plot"
   ]
  },
  {
   "cell_type": "code",
   "execution_count": null,
   "metadata": {
    "collapsed": false
   },
   "outputs": [],
   "source": [
    "### 1D POINTS PLOT OF THE GRAPH ###\n",
    "plt.plot(x, y, 'o')  # dot plot\n",
    "plt.show()           # <-- shows the plot"
   ]
  },
  {
   "cell_type": "markdown",
   "metadata": {},
   "source": [
    "An example of 2D plotting, in particular a function for showing images (fig.2), is shown in the code below:"
   ]
  },
  {
   "cell_type": "code",
   "execution_count": null,
   "metadata": {
    "collapsed": false
   },
   "outputs": [],
   "source": [
    "### 2D PLOT ###\n",
    "print \"Basic usage of matplotlib for 2D plotting...\\n\"\n",
    "image = np.random.rand(30, 30)\n",
    "plt.imshow(image, cmap=plt.cm.hot)  \n",
    "plt.colorbar()\n",
    "plt.show()"
   ]
  },
  {
   "cell_type": "markdown",
   "metadata": {},
   "source": [
    "These are just the most basic stuffs, however, in order to give you a glimpse of the stuffs that you can do with matplotlib, take a look to [the documentation](http://matplotlib.org/users/pyplot_tutorial.html)."
   ]
  },
  {
   "cell_type": "markdown",
   "metadata": {},
   "source": [
    "### D. Indexing and Slicing\n",
    "---\n",
    "Numpy arrays are zero-based (differently from Matlab array, that are 1 based). The items of an array can be accessed using indexing at the same way as other Python sequences (e.g. lists):"
   ]
  },
  {
   "cell_type": "code",
   "execution_count": null,
   "metadata": {
    "collapsed": false,
    "scrolled": true
   },
   "outputs": [],
   "source": [
    "### INDEXING OF NUMPY ARRAYS ###\n",
    "print \"Indexing of numpy array's items:\"\n",
    "a = np.arange(10)\n",
    "a_items = (a[0], a[3], a[-1]) #the index equals to -1 points to the last item\n",
    "print \"(a[0], a[3], a[-1]) = %(tuple)s where a = %(arange)s.\\n\" % {\"tuple\":a_items,\"arange\":a}"
   ]
  },
  {
   "cell_type": "markdown",
   "metadata": {},
   "source": [
    "For multidimensional arrays, indexes are tuples of integers:"
   ]
  },
  {
   "cell_type": "code",
   "execution_count": null,
   "metadata": {
    "collapsed": false
   },
   "outputs": [],
   "source": [
    "### MULTIMENSIONAL INDEXING OF NUMPY ARRAYS ###\n",
    "print \"Multidimensional indexing of numpy array's items:\"\n",
    "a = np.diag(np.arange(3))\n",
    "print \"a[1, 1] = %(a11)s where a = %(a)s\" % {\"a11\":a[1,1],\"a\":a}\n",
    "print \"Assigning of multidimensional numpy arrays:\"\n",
    "a[2,1]=10\n",
    "print \"if a[2,1] is assigned equal to 10, where a was %(a)s, then a = %(a_new)s.\\n\" % {\"a\":np.diag(np.arange(3)),\"a_new\":a}"
   ]
  },
  {
   "cell_type": "markdown",
   "metadata": {},
   "source": [
    "Numpy arrays, like other Python sequences can also be sliced:"
   ]
  },
  {
   "cell_type": "code",
   "execution_count": null,
   "metadata": {
    "collapsed": false
   },
   "outputs": [],
   "source": [
    "### SLICING OF NUMPY ARRAYS ###\n",
    "print \"Slicing of numpy arrays:\"\n",
    "a = np.arange(10)\n",
    "a_sliced = a[2:9:3] # [start:end:step]\n",
    "print \"a[2:9:3] = %(a_sliced)s where a = %(a)s. The order of the indices used to slice the array is relatively [start:end:step]. If the step index is omitted, by default is equal to 1.\" % {\"a_sliced\":a_sliced,\"a\":a}\n",
    "a_sliced_2 = a[:4] # [0:end:1]\n",
    "print \"a[:4] = %(a_sliced_2)s where a = %(a)s. The start index is missing, so the slicing start by default from the index 0. Also the step index is missing, so by default the step is 1.\" % {\"a_sliced_2\":a_sliced_2,\"a\":a}\n",
    "a_sliced_3 = a[1:3]\n",
    "print \"a[1:3] = %(a_sliced_3)s where a = %(a)s. The step index is missing, so by default is missing.\" % {\"a_sliced_3\":a_sliced_3,\"a\":a}\n",
    "a_sliced_4 = a[::2]\n",
    "print \"a[::2] = %(a_sliced_4)s where a = %(a)s. The start is set by default at the beginning of the vector, the end to the end of the vector, while the step is set to 2.\" % {\"a_sliced_4\":a_sliced_4,\"a\":a}\n",
    "a_sliced_5 = a[3:]\n",
    "print \"a[3:] = %(a_sliced_5)s where a = %(a)s. In this case, the vector is sliced starting from the 4th item till its end, with step 1.\" % {\"a_sliced_5\":a_sliced_5,\"a\":a}\n",
    "print \"What about if you want to reverse the access order of the sequence?\"\n",
    "print \"a[::-1] = %(a_reversed)s where a = %(a)s. The step index set to -1 reverse the accessing order of the sequence.\\n\" % {\"a_reversed\":a[::-1],\"a\":a}"
   ]
  },
  {
   "cell_type": "markdown",
   "metadata": {},
   "source": [
    "It is possible to combine also slicing and assigning:"
   ]
  },
  {
   "cell_type": "code",
   "execution_count": null,
   "metadata": {
    "collapsed": false
   },
   "outputs": [],
   "source": [
    "print \"How to combine slicing and assigning:\"\n",
    "a[5:]=10\n",
    "print \"a = %(a)s, if the assignement is performed a[5:]=10.\\n\" % {\"a\":a} "
   ]
  },
  {
   "cell_type": "markdown",
   "metadata": {},
   "source": [
    "> Now it's your turn: look at this graphical example and create a slicing as the [red, orange, ...,] boes suggest.\n",
    "![alt text](img/slicing.jpg \"Logo Title Text 1\")"
   ]
  },
  {
   "cell_type": "code",
   "execution_count": null,
   "metadata": {
    "collapsed": false
   },
   "outputs": [],
   "source": [
    "from test import test_slice\n",
    "test = np.arange(6) + np.arange(0, 51, 10)[:, np.newaxis]\n",
    "\n",
    "# Next is up to you!\n",
    "red = test[:]  \n",
    "orange = test[:]\n",
    "green = test[:]\n",
    "celeste = test[:]\n",
    "\n",
    "# Test\n",
    "test_slice(red, orange, green, celeste)"
   ]
  },
  {
   "cell_type": "markdown",
   "metadata": {
    "collapsed": false
   },
   "source": [
    "> This slicing does look really useful for cropping images. Doesn’t it?"
   ]
  },
  {
   "cell_type": "markdown",
   "metadata": {
    "collapsed": false
   },
   "source": [
    "### E. Copies and Views\n",
    "---\n",
    "A slicing operation creates a view on the original array, which is just a way of accessing array data. Thus the original array is not copied in memory. You can use `np.may_share_memory()` to check if two arrays share the same memory block. Note however, that this uses heuristics and may give you false positives. When modifying the view, the original array is modified as well:"
   ]
  },
  {
   "cell_type": "code",
   "execution_count": null,
   "metadata": {
    "collapsed": false
   },
   "outputs": [],
   "source": [
    "### COPIES VS VIEWS ###\n",
    "print \"Slicing does not copy the array, it just creates a view of the original array:\"\n",
    "a = np.arange(10)\n",
    "b = a[::2]\n",
    "print \"a = np.arange(10) and b = a[::2]. Do they share memory? %(bool)s\" % {\"bool\" : np.may_share_memory(a, b)}\n",
    "\n",
    "print \"Explicit copy of a numpy array:\"\n",
    "a = np.arange(10)\n",
    "b = a[::2].copy()\n",
    "print \"a = np.arange(10) and b = a[::2].copy().Do they share memory? %(bool)s.\\n\" % {\"bool\" : np.may_share_memory(a, b) }"
   ]
  },
  {
   "cell_type": "markdown",
   "metadata": {},
   "source": [
    "### F. Fancy indexing\n",
    "---\n",
    "Numpy arrays can be indexed with slices, but also with boolean or integer arrays (masks). This method is called fancy indexing. Let me say that fancy indexing is really fancy. Differently from slicing it creates copies not views."
   ]
  },
  {
   "cell_type": "code",
   "execution_count": null,
   "metadata": {
    "collapsed": false
   },
   "outputs": [],
   "source": [
    "### FANCY INDEXING ###\n",
    "print \"Fancy indexing:\"\n",
    "np.random.seed(3)\n",
    "a = np.random.random_integers(0, 20, 15)\n",
    "mask = (a % 3 == 0)\n",
    "print \"a = %(a)s\" % {\"a\":a}\n",
    "print \"The mask contains whether the value of an item is multiple of 3 or not. mask = (a %% 3 == 0) = %(mask)s\" % {\"mask\":mask}\n",
    "print \"a[mask] = %(a_masked)s.\\n\" % {\"a_masked\":a[mask]}"
   ]
  },
  {
   "cell_type": "markdown",
   "metadata": {},
   "source": [
    "This looks real fun if you have to mask an image or if you want to extract values from a ROI (Region of Interest). Doesn’t it?\n",
    "\n",
    "You can perform fancy indexing also using python lists of integer indeces:"
   ]
  },
  {
   "cell_type": "code",
   "execution_count": null,
   "metadata": {
    "collapsed": false
   },
   "outputs": [],
   "source": [
    "print \"Fancy indexing with integers arrays:\"\n",
    "a = np.arange(0, 100, 10)\n",
    "print \"a = np.arange(0, 100, 10) and a[[2, 3, 2, 4, 2]] = %(a_indexed)s\" % {\"a_indexed\" : a[[2, 3, 2, 4, 2]]}"
   ]
  },
  {
   "cell_type": "markdown",
   "metadata": {},
   "source": [
    "### G. Numpy for Matlab users\n",
    "---\n",
    "You have been guided through the first steps of numpy and matplotlib libraries, however the things that you can do with those library are much more. In fact, in this tutorial important aspects such as array arithmetical operations, array broadcasting, reshaping and resizing are omitted. However, start- ing from this basic knowledge and the online documentations I am sure you can get really far very fast. For those of you that are use to Matlab and feel lazy about study new technologies, I would suggest to take a look at this address: http://mathesaurus.sourceforge.net/matlab-numpy.html. It contains all the most common Matlab functions translated to the correspondent numpy method. At this web address http://conference.scipy.org/scipy2013/tutorials.php you can find some really interesting and high quality tutorials, where you can improve your knowledge of the libraries.\n"
   ]
  },
  {
   "cell_type": "markdown",
   "metadata": {},
   "source": [
    "# IV. EXERCISES \n",
    "### A. Exercise 1\n",
    "---\n",
    "Do you like pop art? What about to make your facebook profile picture Andy Warhol style? In this exercise you will have to take a RGB color picture, preferably a your profile picture, and create a Andy Warhol collage as:\n",
    "![alt text](img/new_profile.jpg \"Logo Title Text 1\")\n",
    "\n",
    "You may find useful OpenCV python bindings module (cv2), the OpenCV functions imread, *cvtColor* and *merge*. Then, you may find useful also the numpy functions *hstack*, *vstack* and *astype*.\n",
    "\n",
    "Have fun!"
   ]
  },
  {
   "cell_type": "code",
   "execution_count": null,
   "metadata": {
    "collapsed": false
   },
   "outputs": [],
   "source": [
    "import cv2\n",
    "\n",
    "# type your code here!"
   ]
  },
  {
   "cell_type": "markdown",
   "metadata": {},
   "source": [
    "### B. Exercise 2\n",
    "---\n",
    "Threshold the coins image and set to black the foreground:\n",
    "![coins](img/coins.jpg \"Logo Title Text 1\")\n",
    "![thresholded coins](img/new_coins.jpg \"Logo Title Text 1\")\n",
    "\n",
    "\n",
    "Enjoy!"
   ]
  },
  {
   "cell_type": "code",
   "execution_count": null,
   "metadata": {
    "collapsed": false
   },
   "outputs": [],
   "source": []
  }
 ],
 "metadata": {
  "kernelspec": {
   "display_name": "Python 2",
   "language": "python",
   "name": "python2"
  },
  "language_info": {
   "codemirror_mode": {
    "name": "ipython",
    "version": 2
   },
   "file_extension": ".py",
   "mimetype": "text/x-python",
   "name": "python",
   "nbconvert_exporter": "python",
   "pygments_lexer": "ipython2",
   "version": "2.7.11"
  },
  "widgets": {
   "state": {},
   "version": "1.0.0"
  }
 },
 "nbformat": 4,
 "nbformat_minor": 0
}
